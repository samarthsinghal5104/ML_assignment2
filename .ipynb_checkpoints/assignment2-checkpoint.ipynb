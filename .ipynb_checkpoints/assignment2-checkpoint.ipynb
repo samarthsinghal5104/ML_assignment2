{
 "cells": [
  {
   "cell_type": "code",
   "execution_count": 1,
   "metadata": {},
   "outputs": [],
   "source": [
    "import numpy as np\n",
    "import tensorflow as tf\n",
    "import matplotlib.pyplot as plt"
   ]
  },
  {
   "cell_type": "code",
   "execution_count": 2,
   "metadata": {},
   "outputs": [],
   "source": [
    "np.random.seed(101)\n",
    "tf.set_random_seed(101)\n",
    "x=np.linspace(0,50,50)\n",
    "x+=np.random.uniform(-4,4,50)\n",
    "y=np.linspace(-2,2,50)\n",
    "y+=np.random.uniform(-1,1,50)\n",
    "n=len(x)"
   ]
  },
  {
   "cell_type": "code",
   "execution_count": 3,
   "metadata": {},
   "outputs": [
    {
     "data": {
      "image/png": "[encoded data removed]",
      "text/plain": [
       "<Figure size 432x288 with 1 Axes>"
      ]
     },
     "metadata": {
      "needs_background": "light"
     },
     "output_type": "display_data"
    }
   ],
   "source": [
    "plt.scatter(x,y)\n",
    "plt.xlabel('x')\n",
    "plt.ylabel('y')\n",
    "plt.title(\"training data\")\n",
    "plt.show()"
   ]
  },
  {
   "cell_type": "code",
   "execution_count": 4,
   "metadata": {},
   "outputs": [
    {
     "name": "stdout",
     "output_type": "stream",
     "text": [
      "WARNING:tensorflow:From c:\\users\\samarth\\appdata\\local\\programs\\python\\python36\\lib\\site-packages\\tensorflow\\python\\framework\\op_def_library.py:263: colocate_with (from tensorflow.python.framework.ops) is deprecated and will be removed in a future version.\n",
      "Instructions for updating:\n",
      "Colocations handled automatically by placer.\n",
      "WARNING:tensorflow:From c:\\users\\samarth\\appdata\\local\\programs\\python\\python36\\lib\\site-packages\\tensorflow\\python\\ops\\math_ops.py:3066: to_int32 (from tensorflow.python.ops.math_ops) is deprecated and will be removed in a future version.\n",
      "Instructions for updating:\n",
      "Use tf.cast instead.\n"
     ]
    }
   ],
   "source": [
    "X=tf.placeholder(\"float\")\n",
    "Y=tf.placeholder(\"float\")\n",
    "W=tf.Variable(np.random.randn(),name=\"W\")\n",
    "b=tf.Variable(np.random.randn(),name=\"b\")\n",
    "learning_rate=0.01\n",
    "training_epochs=1000\n",
    "y_pred=tf.add(tf.multiply(X,W),b)\n",
    "cost=tf.reduce_sum(tf.pow(y_pred-Y,2))/(2*n)\n",
    "optimizer = tf.train.GradientDescentOptimizer(learning_rate).minimize(cost)\n",
    "init = tf.global_variables_initializer()"
   ]
  },
  {
   "cell_type": "code",
   "execution_count": 5,
   "metadata": {},
   "outputs": [
    {
     "name": "stdout",
     "output_type": "stream",
     "text": [
      "Epoch 50 : cost = 1.8971548 W = 0.024656389 b = 0.9712552\n",
      "Epoch 100 : cost = 1.5545226 W = 0.031573508 b = 0.6330355\n",
      "Epoch 150 : cost = 1.2805232 W = 0.03775172 b = 0.3309453\n",
      "Epoch 200 : cost = 1.0613459 W = 0.043269992 b = 0.06112371\n",
      "Epoch 250 : cost = 0.8859678 W = 0.048198797 b = -0.17987539\n",
      "Epoch 300 : cost = 0.74558663 W = 0.052601118 b = -0.39513153\n",
      "Epoch 350 : cost = 0.6331762 W = 0.056533165 b = -0.58739316\n",
      "Epoch 400 : cost = 0.54312444 W = 0.06004519 b = -0.7591172\n",
      "Epoch 450 : cost = 0.47094992 W = 0.06318203 b = -0.91249657\n",
      "Epoch 500 : cost = 0.41307062 W = 0.06598391 b = -1.0494969\n",
      "Epoch 550 : cost = 0.36663023 W = 0.06848645 b = -1.1718614\n",
      "Epoch 600 : cost = 0.32934391 W = 0.070721634 b = -1.2811531\n",
      "Epoch 650 : cost = 0.29938495 W = 0.07271807 b = -1.378771\n",
      "Epoch 700 : cost = 0.2752949 W = 0.07450124 b = -1.4659606\n",
      "Epoch 750 : cost = 0.2559068 W = 0.07609392 b = -1.5438366\n",
      "Epoch 800 : cost = 0.24028802 W = 0.07751647 b = -1.6133935\n",
      "Epoch 850 : cost = 0.22769174 W = 0.07878713 b = -1.675524\n",
      "Epoch 900 : cost = 0.21752264 W = 0.079921976 b = -1.7310134\n",
      "Epoch 950 : cost = 0.20930143 W = 0.08093568 b = -1.7805793\n",
      "Epoch 1000 : cost = 0.20264646 W = 0.08184108 b = -1.8248498\n"
     ]
    }
   ],
   "source": [
    "with tf.Session() as sess: \n",
    "    sess.run(init) \n",
    "    # Iterating through all the epochs \n",
    "    for epoch in range(training_epochs): \n",
    "        # Feeding each data point into the optimizer using Feed Dictionary \n",
    "        for (_x, _y) in zip(x, y): \n",
    "            sess.run(optimizer, feed_dict = {X : _x, Y : _y}) \n",
    "        # Displaying the result after every 50 epochs \n",
    "        if (epoch + 1) % 50 == 0: \n",
    "            # Calculating the cost a every epoch \n",
    "            c = sess.run(cost, feed_dict = {X : x, Y : y}) \n",
    "            print(\"Epoch\", (epoch + 1), \": cost =\", c, \"W =\", sess.run(W), \"b =\", sess.run(b)) \n",
    "\n",
    "    # Storing necessary values to be used outside the Session \n",
    "    training_cost = sess.run(cost, feed_dict ={X: x, Y: y}) \n",
    "    weight = sess.run(W) \n",
    "    bias = sess.run(b) "
   ]
  },
  {
   "cell_type": "code",
   "execution_count": 6,
   "metadata": {},
   "outputs": [
    {
     "name": "stdout",
     "output_type": "stream",
     "text": [
      "Training cost = 0.20264646 Weight = 0.08184108 bias = -1.8248498 \n",
      "\n"
     ]
    }
   ],
   "source": [
    "predictions = weight * x + bias \n",
    "print(\"Training cost =\", training_cost, \"Weight =\", weight, \"bias =\", bias, '\\n') "
   ]
  },
  {
   "cell_type": "code",
   "execution_count": 7,
   "metadata": {},
   "outputs": [
    {
     "data": {
      "image/png": "[encoded data removed]",
      "text/plain": [
       "<Figure size 432x288 with 1 Axes>"
      ]
     },
     "metadata": {
      "needs_background": "light"
     },
     "output_type": "display_data"
    }
   ],
   "source": [
    "plt.plot(x, y, 'ro', label ='Original data') \n",
    "plt.plot(x, predictions, label ='Fitted line') \n",
    "plt.title('Linear Regression Result') \n",
    "plt.legend() \n",
    "plt.show()"
   ]
  },
  {
   "cell_type": "code",
   "execution_count": null,
   "metadata": {},
   "outputs": [],
   "source": []
  }
 ],
 "metadata": {
  "kernelspec": {
   "display_name": "Python 3",
   "language": "python",
   "name": "python3"
  },
  "language_info": {
   "codemirror_mode": {
    "name": "ipython",
    "version": 3
   },
   "file_extension": ".py",
   "mimetype": "text/x-python",
   "name": "python",
   "nbconvert_exporter": "python",
   "pygments_lexer": "ipython3",
   "version": "3.6.4"
  }
 },
 "nbformat": 4,
 "nbformat_minor": 2
}
